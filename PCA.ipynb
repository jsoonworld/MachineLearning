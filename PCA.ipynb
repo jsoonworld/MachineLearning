{
  "nbformat": 4,
  "nbformat_minor": 0,
  "metadata": {
    "colab": {
      "provenance": []
    },
    "kernelspec": {
      "name": "python3",
      "display_name": "Python 3"
    },
    "language_info": {
      "name": "python"
    }
  },
  "cells": [
    {
      "cell_type": "markdown",
      "source": [
        "# Unsupervised Learing\n",
        "- Supervised Learing과 다르게 input data에 대한 target(Label)이 주어지지 않음.\n",
        "\n"
      ],
      "metadata": {
        "id": "4wpb5MSQa5nw"
      }
    },
    {
      "cell_type": "markdown",
      "source": [
        "#PCA ( Principle Component Analysis )\n",
        "\n",
        "##현재 가장 많이 사용하는 차원 축소 기법\n",
        "\n",
        "- Feature의 갯수를 줄인다\n",
        "- 주요 특징들을 추출한다.\n",
        "- (데이터가 줄어드니) 계산 비용이 감소한다.\n",
        "- 전반적인 경향을 사람이 이해하기 쉽다.\n"
      ],
      "metadata": {
        "id": "Oot9igU6bG1e"
      }
    },
    {
      "cell_type": "markdown",
      "source": [
        "# Iris Dataset load\n",
        "1. PCA 수행\n",
        "2. PCA 시각화\n",
        "\n",
        "\n",
        " "
      ],
      "metadata": {
        "id": "Ol7Jiw6mbktg"
      }
    },
    {
      "cell_type": "markdown",
      "source": [
        "# PCA data로 학습\n",
        "\n",
        "1. data set 분할\n",
        "2. SVM 학습/검증\n"
      ],
      "metadata": {
        "id": "5hLw_ue_bzhs"
      }
    }
  ]
}