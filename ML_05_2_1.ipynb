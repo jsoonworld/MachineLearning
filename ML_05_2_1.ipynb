{
  "nbformat": 4,
  "nbformat_minor": 0,
  "metadata": {
    "colab": {
      "provenance": []
    },
    "kernelspec": {
      "name": "python3",
      "display_name": "Python 3"
    },
    "language_info": {
      "name": "python"
    }
  },
  "cells": [
    {
      "cell_type": "markdown",
      "source": [
        "##Cross validation & GridSearch\n",
        "\n",
        "- 테스트 세트를 사용해 계속 성능을 확인하다 보면 점점 테스트 세트에 맞추게 됨.\n",
        "- 테스트 세트로 일반화 성능을 올바르게 예측하려면 가능한 한 테스트 세트를 사용하지 말아야 한다."
      ],
      "metadata": {
        "id": "jjkqdV4WqrcV"
      }
    },
    {
      "cell_type": "markdown",
      "source": [
        "##Validation set\n",
        "\n",
        "- 테스트 세트를 사용하지 않고 이를 측정하는 방법은 훈련 세트를 다시 나누는 것"
      ],
      "metadata": {
        "id": "ZWe64WkgrgXj"
      }
    },
    {
      "cell_type": "code",
      "execution_count": 1,
      "metadata": {
        "id": "jqiHpM5mqoQE"
      },
      "outputs": [],
      "source": [
        "import pandas as pd\n",
        "wine = pd.read_csv('https://bit.ly/wine_csv_data')"
      ]
    },
    {
      "cell_type": "markdown",
      "source": [
        "class column 을 target으로 사용하고 나머지 column feature array에 저장"
      ],
      "metadata": {
        "id": "A5_pO-mZrx1y"
      }
    },
    {
      "cell_type": "code",
      "source": [
        "data = wine[['alcohol', 'sugar', 'pH']].to_numpy()\n",
        "target = wine['class'].to_numpy()"
      ],
      "metadata": {
        "id": "eCPAFGENrwgX"
      },
      "execution_count": 3,
      "outputs": []
    },
    {
      "cell_type": "code",
      "source": [
        "from sklearn.model_selection import train_test_split\n",
        "train_input, test_input, train_target, test_target = train_test_split(data, target, test_size=0.2, random_state=42)"
      ],
      "metadata": {
        "id": "sAR_pbSpsCr6"
      },
      "execution_count": 8,
      "outputs": []
    },
    {
      "cell_type": "code",
      "source": [
        "sub_input, val_input, sub_target, val_target = train_test_split(train_input, train_target, test_size=0.2, random_state=42)"
      ],
      "metadata": {
        "id": "Orj5JvZ6sT0H"
      },
      "execution_count": 10,
      "outputs": []
    },
    {
      "cell_type": "code",
      "source": [
        "print(sub_input.shape, val_input.shape)"
      ],
      "metadata": {
        "colab": {
          "base_uri": "https://localhost:8080/"
        },
        "id": "w-TRVeIYsb76",
        "outputId": "94f024b0-cf6e-4616-ddf4-28ad793b432d"
      },
      "execution_count": 11,
      "outputs": [
        {
          "output_type": "stream",
          "name": "stdout",
          "text": [
            "(4157, 3) (1040, 3)\n"
          ]
        }
      ]
    },
    {
      "cell_type": "code",
      "source": [
        "from sklearn.tree import DecisionTreeClassifier\n",
        "dt = DecisionTreeClassifier(random_state=42)\n",
        "dt.fit(sub_input, sub_target)\n",
        "print(dt.score(sub_input, sub_target))\n",
        "print(dt.score(val_input, val_target))"
      ],
      "metadata": {
        "colab": {
          "base_uri": "https://localhost:8080/"
        },
        "id": "sug6QCI0srZD",
        "outputId": "82064e8f-dd3d-4719-9ace-a5b1c5043f08"
      },
      "execution_count": 12,
      "outputs": [
        {
          "output_type": "stream",
          "name": "stdout",
          "text": [
            "0.9971133028626413\n",
            "0.864423076923077\n"
          ]
        }
      ]
    },
    {
      "cell_type": "markdown",
      "source": [
        "##croo validation\n",
        "\n",
        "교차 검증은 검증 세트를 떼어 내어 평가하는 과정을 여러 번 반복한다."
      ],
      "metadata": {
        "id": "i1peoi7TtBCl"
      }
    },
    {
      "cell_type": "markdown",
      "source": [
        "## k-fold cross validation\n",
        "- 훈련 세트를 k 부분으로 나눠서 교차 검증을 수행하는 것"
      ],
      "metadata": {
        "id": "EqKatsVMtQtJ"
      }
    },
    {
      "cell_type": "code",
      "source": [
        "from sklearn.model_selection import cross_validate\n",
        "scores = cross_validate(dt, train_input, train_target)\n",
        "print(scores)"
      ],
      "metadata": {
        "colab": {
          "base_uri": "https://localhost:8080/"
        },
        "id": "6Gh7VF3Js7R_",
        "outputId": "9167bc21-91d6-4b3e-fdd2-e893cb1e1944"
      },
      "execution_count": 14,
      "outputs": [
        {
          "output_type": "stream",
          "name": "stdout",
          "text": [
            "{'fit_time': array([0.00991344, 0.00707388, 0.00790262, 0.00716352, 0.0070498 ]), 'score_time': array([0.00092363, 0.00133538, 0.00073481, 0.0007298 , 0.00072789]), 'test_score': array([0.86923077, 0.84615385, 0.87680462, 0.84889317, 0.83541867])}\n"
          ]
        }
      ]
    },
    {
      "cell_type": "markdown",
      "source": [
        "교차 검증의 최종 점수는 test_score 키에 담긴 5개의 점수를 평균하여 얻을 수 있다.\n",
        "\n",
        "이름은 test_score지만 검증 폴드의 점수이다."
      ],
      "metadata": {
        "id": "C7Ad2oPut1RS"
      }
    },
    {
      "cell_type": "code",
      "source": [
        "import numpy as np\n",
        "print(np.mean(scores['test_score']))"
      ],
      "metadata": {
        "colab": {
          "base_uri": "https://localhost:8080/"
        },
        "id": "hwVXq0jHtjoL",
        "outputId": "0ba95d1c-1656-42f8-cede-968e379e866a"
      },
      "execution_count": 15,
      "outputs": [
        {
          "output_type": "stream",
          "name": "stdout",
          "text": [
            "0.855300214703487\n"
          ]
        }
      ]
    },
    {
      "cell_type": "markdown",
      "source": [
        "##splitter\n",
        "\n",
        "- 사이킷런의 분할기는 교차 검증에서 폴드를 어떻게 나눌지 결정해 준다.\n",
        "- cross_validate() 함수는 기본적으로 회귀 모델일 경우 KFold 부할기를 사용하고\n",
        "\n",
        " 분류 모델일 경우 타깃 클래스를 골고루 나누기 위해 StratifiedKFold를 사용한다.\n"
      ],
      "metadata": {
        "id": "x4yBDF9HuE0U"
      }
    },
    {
      "cell_type": "code",
      "source": [
        "from sklearn.model_selection import StratifiedKFold\n",
        "scores = cross_validate(dt, train_input, train_target, cv=StratifiedKFold())\n",
        "print(np.mean(scores['test_score']))"
      ],
      "metadata": {
        "colab": {
          "base_uri": "https://localhost:8080/"
        },
        "id": "IjtiAxoUuA81",
        "outputId": "8f16d393-6d4d-4c8e-e143-f13cb4237795"
      },
      "execution_count": 16,
      "outputs": [
        {
          "output_type": "stream",
          "name": "stdout",
          "text": [
            "0.855300214703487\n"
          ]
        }
      ]
    },
    {
      "cell_type": "code",
      "source": [
        "splitter = StratifiedKFold(n_splits=10, shuffle=True, random_state=42)\n",
        "scores = cross_validate(dt, train_input, train_target, cv=splitter)\n",
        "print(np.mean(scores['test_score']))"
      ],
      "metadata": {
        "colab": {
          "base_uri": "https://localhost:8080/"
        },
        "id": "3ClB8M44ulMa",
        "outputId": "a308e32e-9ee2-4b72-bcdc-df8f9f324fec"
      },
      "execution_count": 17,
      "outputs": [
        {
          "output_type": "stream",
          "name": "stdout",
          "text": [
            "0.8574181117533719\n"
          ]
        }
      ]
    },
    {
      "cell_type": "markdown",
      "source": [
        "##Hyperparameter tuning\n",
        "- 모델이 학습할 수 없어서 사용자가 지정해야지만 하는 파라미터를 하이퍼파라미터라고 한다.\n",
        "\n",
        "##Grid Search\n",
        "\n",
        "##GridSearchCV\n",
        "\n",
        "- 하이퍼파라미터 탐색과 교차 검증을 한 번에 수행한다.\n",
        "\n",
        "- n_jobs =-1 : CPU 코어수를 지정하는데 -1은 모든 코어를 사용한다."
      ],
      "metadata": {
        "id": "CNtKNXm7vM9x"
      }
    },
    {
      "cell_type": "code",
      "source": [
        "from sklearn.model_selection import GridSearchCV\n",
        "params = {'min_impurity_decrease': [0.0001, 0.0002, 0.0003, 0.0004, 0.0005]}\n",
        "gs = GridSearchCV(DecisionTreeClassifier(random_state=42), params, n_jobs=-1)"
      ],
      "metadata": {
        "id": "Y0R9_oluvJzp"
      },
      "execution_count": 18,
      "outputs": []
    },
    {
      "cell_type": "code",
      "source": [
        "gs.fit(train_input, train_target)"
      ],
      "metadata": {
        "colab": {
          "base_uri": "https://localhost:8080/"
        },
        "id": "QlCsRfkGwRja",
        "outputId": "f76cb656-5451-4c2a-cd07-d7630fc7491f"
      },
      "execution_count": 19,
      "outputs": [
        {
          "output_type": "execute_result",
          "data": {
            "text/plain": [
              "GridSearchCV(estimator=DecisionTreeClassifier(random_state=42), n_jobs=-1,\n",
              "             param_grid={'min_impurity_decrease': [0.0001, 0.0002, 0.0003,\n",
              "                                                   0.0004, 0.0005]})"
            ]
          },
          "metadata": {},
          "execution_count": 19
        }
      ]
    },
    {
      "cell_type": "code",
      "source": [
        "dt = gs.best_estimator_\n",
        "print(dt.score(train_input, train_target))"
      ],
      "metadata": {
        "colab": {
          "base_uri": "https://localhost:8080/"
        },
        "id": "ts6bL80iwmvA",
        "outputId": "f082d55a-7867-4378-8dd0-20c48a5bc03e"
      },
      "execution_count": 20,
      "outputs": [
        {
          "output_type": "stream",
          "name": "stdout",
          "text": [
            "0.9615162593804117\n"
          ]
        }
      ]
    },
    {
      "cell_type": "code",
      "source": [
        "print(gs.best_params_)"
      ],
      "metadata": {
        "colab": {
          "base_uri": "https://localhost:8080/"
        },
        "id": "FNAVrhXYws09",
        "outputId": "dea5d68d-e7c0-40eb-ae8c-03382c7fddc1"
      },
      "execution_count": 21,
      "outputs": [
        {
          "output_type": "stream",
          "name": "stdout",
          "text": [
            "{'min_impurity_decrease': 0.0001}\n"
          ]
        }
      ]
    },
    {
      "cell_type": "code",
      "source": [
        "print(gs.cv_results_['mean_test_score'])"
      ],
      "metadata": {
        "colab": {
          "base_uri": "https://localhost:8080/"
        },
        "id": "vkOzpSt7ww08",
        "outputId": "b2bd1e36-6c53-4f3b-cea1-e6cfecedaa5d"
      },
      "execution_count": 22,
      "outputs": [
        {
          "output_type": "stream",
          "name": "stdout",
          "text": [
            "[0.86819297 0.86453617 0.86492226 0.86780891 0.86761605]\n"
          ]
        }
      ]
    },
    {
      "cell_type": "code",
      "source": [
        "best_index = np.argmax(gs.cv_results_['mean_test_score'])\n",
        "print(gs.cv_results_['params'][best_index])"
      ],
      "metadata": {
        "colab": {
          "base_uri": "https://localhost:8080/"
        },
        "id": "3O2Iw3EMxBHk",
        "outputId": "f4bf4e01-474a-41b7-80cc-6fbbddde4fc6"
      },
      "execution_count": 24,
      "outputs": [
        {
          "output_type": "stream",
          "name": "stdout",
          "text": [
            "{'min_impurity_decrease': 0.0001}\n"
          ]
        }
      ]
    },
    {
      "cell_type": "markdown",
      "source": [
        "##정리\n",
        "\n",
        "1. 먼저 탐색할 매개변수를 지정한다.\n",
        "\n",
        "2. 훈련 세트에서 그리드 서치를 수행하여 최상의 평균 검증 점수가 나오는 매개변수 조합을 찾는다. 이 조합은 그리드 서치 객체에 저장된다.\n",
        "\n",
        "3. 그리드 서치는 최상의 매개변수에서 (교차 검증에 사용한 훈련 세트가 아니라) 전체 훈련 세트를 사용해 최종 모델을 훈련한다. 이 모델도 서치 객체에 저장된다.\n",
        "\n",
        "##조금 더 복잡한 매개변수 조합\n",
        "\n",
        "##min_impurity_decrease\n",
        "\n",
        "- 노드를 분할하기 위한 불순도 감소 최소량을 지정한다."
      ],
      "metadata": {
        "id": "l7aOwKuUxVZj"
      }
    },
    {
      "cell_type": "code",
      "source": [
        "params = {'min_impurity_decrease': np.arange(0.0001, 0.001, 0.0001),\n",
        "          'max_depth': range(5, 20, 1),\n",
        "          'min_samples_split' : range(2, 100, 10)\n",
        "          }"
      ],
      "metadata": {
        "id": "xzvR6gj2xKx6"
      },
      "execution_count": 25,
      "outputs": []
    },
    {
      "cell_type": "code",
      "source": [
        "gs = GridSearchCV(DecisionTreeClassifier(random_state=42), params, n_jobs=-1)\n",
        "gs.fit(train_input, train_target)"
      ],
      "metadata": {
        "colab": {
          "base_uri": "https://localhost:8080/"
        },
        "id": "Im8pJbZbyLNp",
        "outputId": "36870478-bdd5-4a0d-d039-31c3b43e0b4a"
      },
      "execution_count": 26,
      "outputs": [
        {
          "output_type": "execute_result",
          "data": {
            "text/plain": [
              "GridSearchCV(estimator=DecisionTreeClassifier(random_state=42), n_jobs=-1,\n",
              "             param_grid={'max_depth': range(5, 20),\n",
              "                         'min_impurity_decrease': array([0.0001, 0.0002, 0.0003, 0.0004, 0.0005, 0.0006, 0.0007, 0.0008,\n",
              "       0.0009]),\n",
              "                         'min_samples_split': range(2, 100, 10)})"
            ]
          },
          "metadata": {},
          "execution_count": 26
        }
      ]
    },
    {
      "cell_type": "code",
      "source": [
        "print(gs.best_params_)"
      ],
      "metadata": {
        "colab": {
          "base_uri": "https://localhost:8080/"
        },
        "id": "_siwafNEyxW0",
        "outputId": "4dcf6347-389b-468f-9c73-80ff1f6f3c1f"
      },
      "execution_count": 27,
      "outputs": [
        {
          "output_type": "stream",
          "name": "stdout",
          "text": [
            "{'max_depth': 14, 'min_impurity_decrease': 0.0004, 'min_samples_split': 12}\n"
          ]
        }
      ]
    },
    {
      "cell_type": "code",
      "source": [
        "print(np.max(gs.cv_results_['mean_test_score']))"
      ],
      "metadata": {
        "colab": {
          "base_uri": "https://localhost:8080/"
        },
        "id": "-RBwQvrOy7IG",
        "outputId": "d0045ff3-8c55-4f44-9366-98b33ede797c"
      },
      "execution_count": 28,
      "outputs": [
        {
          "output_type": "stream",
          "name": "stdout",
          "text": [
            "0.8683865773302731\n"
          ]
        }
      ]
    },
    {
      "cell_type": "markdown",
      "source": [
        "##Random Search\n",
        "\n",
        "- 매개변수의 값이 수치일 때 값의 범위나 간격을 미리 정하기 어려울 때\n",
        "- 혹은 너무 많은 매개변수 조건이 있어 그리드 서치 수행 시간이 오래 걸릴 때"
      ],
      "metadata": {
        "id": "EjKbbOSKzDHS"
      }
    },
    {
      "cell_type": "markdown",
      "source": [
        "##scipy\n",
        "-싸이파이는 파이썬의 핵심 과학 라이브러리 중 하나. "
      ],
      "metadata": {
        "id": "RB6z5IXzzaDb"
      }
    },
    {
      "cell_type": "code",
      "source": [
        "## uniform - 실수, randint - 정수\n",
        "from scipy.stats import uniform, randint"
      ],
      "metadata": {
        "id": "5vEoUS0qy_3K"
      },
      "execution_count": 30,
      "outputs": []
    },
    {
      "cell_type": "code",
      "source": [
        "rgen = randint(0, 10)\n",
        "rgen.rvs(10)"
      ],
      "metadata": {
        "colab": {
          "base_uri": "https://localhost:8080/"
        },
        "id": "8bvD5ZEBzkTp",
        "outputId": "87d11200-514c-46ee-d5a6-8f9d3033622b"
      },
      "execution_count": 31,
      "outputs": [
        {
          "output_type": "execute_result",
          "data": {
            "text/plain": [
              "array([5, 2, 6, 2, 2, 2, 6, 0, 7, 1])"
            ]
          },
          "metadata": {},
          "execution_count": 31
        }
      ]
    },
    {
      "cell_type": "code",
      "source": [
        "np.unique(rgen.rvs(1000), return_counts=True)"
      ],
      "metadata": {
        "colab": {
          "base_uri": "https://localhost:8080/"
        },
        "id": "bwLp8NVwz07v",
        "outputId": "e41e5a44-30d2-4789-cb21-6b18d38c32e6"
      },
      "execution_count": 32,
      "outputs": [
        {
          "output_type": "execute_result",
          "data": {
            "text/plain": [
              "(array([0, 1, 2, 3, 4, 5, 6, 7, 8, 9]),\n",
              " array([ 94, 103,  96,  98, 102,  87, 109,  96, 111, 104]))"
            ]
          },
          "metadata": {},
          "execution_count": 32
        }
      ]
    },
    {
      "cell_type": "code",
      "source": [
        "ugen = uniform(0,1)\n",
        "ugen.rvs(10)"
      ],
      "metadata": {
        "colab": {
          "base_uri": "https://localhost:8080/"
        },
        "id": "EcNzhVBmz7kQ",
        "outputId": "3dadc262-378d-4063-db15-004c8b952faf"
      },
      "execution_count": 33,
      "outputs": [
        {
          "output_type": "execute_result",
          "data": {
            "text/plain": [
              "array([0.23771524, 0.11009619, 0.41637507, 0.84998318, 0.37402672,\n",
              "       0.748545  , 0.31241769, 0.80616776, 0.32643873, 0.97535919])"
            ]
          },
          "metadata": {},
          "execution_count": 33
        }
      ]
    },
    {
      "cell_type": "code",
      "source": [
        "params = {'min_impurity_decrease' : uniform(0.0001, 0.001),\n",
        "          'max_depth': randint(20, 50),\n",
        "          'min_samples_split': randint(2, 25),\n",
        "          'min_samples_leaf': randint(1, 25),\n",
        "          }"
      ],
      "metadata": {
        "id": "cW5PPO8g0HvR"
      },
      "execution_count": 34,
      "outputs": []
    },
    {
      "cell_type": "code",
      "source": [
        "from sklearn.model_selection import RandomizedSearchCV\n",
        "gs = RandomizedSearchCV(DecisionTreeClassifier(random_state=42), params, n_iter=100, n_jobs=-1, random_state=42)\n",
        "gs.fit(train_input, train_target)"
      ],
      "metadata": {
        "colab": {
          "base_uri": "https://localhost:8080/"
        },
        "id": "kWMHQWnE0brP",
        "outputId": "043ae641-e01c-4580-955a-ea4860b4323b"
      },
      "execution_count": 36,
      "outputs": [
        {
          "output_type": "execute_result",
          "data": {
            "text/plain": [
              "RandomizedSearchCV(estimator=DecisionTreeClassifier(random_state=42),\n",
              "                   n_iter=100, n_jobs=-1,\n",
              "                   param_distributions={'max_depth': <scipy.stats._distn_infrastructure.rv_frozen object at 0x7f297ce74c10>,\n",
              "                                        'min_impurity_decrease': <scipy.stats._distn_infrastructure.rv_frozen object at 0x7f297ce74160>,\n",
              "                                        'min_samples_leaf': <scipy.stats._distn_infrastructure.rv_frozen object at 0x7f297ce75f40>,\n",
              "                                        'min_samples_split': <scipy.stats._distn_infrastructure.rv_frozen object at 0x7f297ce75310>},\n",
              "                   random_state=42)"
            ]
          },
          "metadata": {},
          "execution_count": 36
        }
      ]
    },
    {
      "cell_type": "code",
      "source": [
        "print(gs.best_params_)"
      ],
      "metadata": {
        "colab": {
          "base_uri": "https://localhost:8080/"
        },
        "id": "lLQi0yqW02AL",
        "outputId": "6ed6a858-efc4-4c9d-cc54-08ae1f055db6"
      },
      "execution_count": 37,
      "outputs": [
        {
          "output_type": "stream",
          "name": "stdout",
          "text": [
            "{'max_depth': 39, 'min_impurity_decrease': 0.00034102546602601173, 'min_samples_leaf': 7, 'min_samples_split': 13}\n"
          ]
        }
      ]
    },
    {
      "cell_type": "code",
      "source": [
        "print(np.max(gs.cv_results_['mean_test_score']))"
      ],
      "metadata": {
        "colab": {
          "base_uri": "https://localhost:8080/"
        },
        "id": "Sh_Ukz0f06tM",
        "outputId": "0b4138a6-7325-45db-89b8-26ac69226f3e"
      },
      "execution_count": 38,
      "outputs": [
        {
          "output_type": "stream",
          "name": "stdout",
          "text": [
            "0.8695428296438884\n"
          ]
        }
      ]
    },
    {
      "cell_type": "code",
      "source": [
        "dt = gs.best_estimator_\n",
        "print(dt.score(test_input, test_target))"
      ],
      "metadata": {
        "colab": {
          "base_uri": "https://localhost:8080/"
        },
        "id": "7l7IN8og0_pC",
        "outputId": "b995dd9e-c381-42b5-86a9-b4258c33d12e"
      },
      "execution_count": 39,
      "outputs": [
        {
          "output_type": "stream",
          "name": "stdout",
          "text": [
            "0.86\n"
          ]
        }
      ]
    },
    {
      "cell_type": "markdown",
      "source": [
        "##최적의 모델을 위한 하이퍼파라미터 탐색\n",
        "\n",
        "- 레드 와인과 화이트 와인을 선별하는 작업의 성능을 끌어올리기 위해 결정 트리의 다양한 하이퍼파라미터를 시도해 봐야 한다. 이런 과정에서 테스트 세트를 사용하면 결국 테스트 세트에 맞춰 훈려하는 효과를 만든다.\n",
        "\n",
        "- 테스트 세트는 최종 모델을 선택할 때까지 사용하지 말아야 한다. 테스트 세트를 사용하지 않고 모델을 평가하려면 또 다른 세트가 필요하다. 이를 검증 세트라고 부른다. 혹은 개발 (dev set)라고도 부른다. 검증 세트는 훈련 세트 중 일부를 다시 덜어 내어 만든다.\n",
        "\n",
        "- 검증 세트가 크지 않다면 어떻게 데이터를 나누었는지에 따라 검증 점수가 둘쭉날쭉할 것이다. 훈련한 모델의 성능을 안정적으로 평가하기 위해 검증 세트를 한 번 나누어 모델을 평가하는 것에 그치지 않고 여러 번 반복할 수 있다. 이를 교차 검증이라고 한다.\n",
        "\n",
        "- 보통 훈련 세트를 5등분 혹은 10등분 한다. 나누어진 한 덩어리를 폴드라고 부르며 한 폴드씩 돌아가면서 검증 세트의 역할을 한다. 따라서 전체적으로 5개 혹은 10개의 모델을 만든다. 최정 검증 점수는 모든 폴드의 검증 점수를 평군하여 계산한다.\n",
        "\n",
        "- 교차 검증을 사용해 다양한 하이퍼파라미터를 탐색한다. 머신러닝 라이브러리에서는 클래스와 메서드의 매개변수를 바꾸어 모델을 훈련하고 평가해 보는 작업이다. 이런 과정은 때론 지루하고 반복적이다. 테스트하고 싶은 리스트를 만들어 이 과정을 자동화하는 그리드 서치를 사용하면 편리하다.\n",
        "\n",
        "- 매개변수 값이 수치형이고 특히 연속적인 실숫값이라며 싸이파이의 확률 분포 객체를 전달하여 특정 범위 내에서 지정된 횟수만큼 매개변수 후보 값을 샘플링하여 교차 검증을 시도할 수 있다. 이는 한정된 자원을 최대한 활용하여 효율적으로 하이퍼파라미터 공간을 탐색할 수 있는 아주 좋은 도구이다.\n",
        "\n"
      ],
      "metadata": {
        "id": "7Fn5kNf_3Qm0"
      }
    },
    {
      "cell_type": "code",
      "source": [],
      "metadata": {
        "id": "GGh_W1aZ1D8b"
      },
      "execution_count": null,
      "outputs": []
    }
  ]
}