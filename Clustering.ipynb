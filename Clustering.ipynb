{
  "nbformat": 4,
  "nbformat_minor": 0,
  "metadata": {
    "colab": {
      "provenance": []
    },
    "kernelspec": {
      "name": "python3",
      "display_name": "Python 3"
    },
    "language_info": {
      "name": "python"
    }
  },
  "cells": [
    {
      "cell_type": "markdown",
      "source": [
        "##Random Forest review\n",
        "\n",
        "- Extra tree: 결정 트리의 노드를 랜덤하게 분할\n",
        "\n",
        "- Gradient Boosting: 이전 트리의 손실을 보완하는 식으로 얕은 결정트리를 연속하여 추가함.\n",
        "\n",
        "- Histogram-based gradient boosting : 훈련 데이터를 256개 정수 구간으로 나누어 빠르고 높은 성능을 냄."
      ],
      "metadata": {
        "id": "BOGLpBSH9jhJ"
      }
    },
    {
      "cell_type": "markdown",
      "source": [
        "#Clustering\n",
        "\n",
        "##unsupervised learning \n",
        "- 하나로 개체를 분류하기 위한 명확한 분류기준이 존재하지 않을 때 - > 주어진 데이터의 특성 정보를 이용해 같은 그룹을 정의하고 서로 유사한 개체가 되도록 대표성을 찾는 방법.\n",
        "\n",
        "- 간단히 말해 Label(target) 정보가 없을 때 Label을 대략적으로 찾는 방법\n",
        "\n",
        "- 데이터 특징의 대푯값(평균, 분산, 표준편차 등)을 활용해서 분류 하자."
      ],
      "metadata": {
        "id": "K1vE7Zze95Ov"
      }
    },
    {
      "cell_type": "markdown",
      "source": [],
      "metadata": {
        "id": "iUmSYOxf-TGf"
      }
    }
  ]
}